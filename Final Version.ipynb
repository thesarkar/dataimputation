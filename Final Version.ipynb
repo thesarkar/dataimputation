{
 "cells": [
  {
   "cell_type": "markdown",
   "id": "d42f513b",
   "metadata": {},
   "source": [
    "# FINAL CODE\n",
    "Please sort the City column before running this script"
   ]
  },
  {
   "cell_type": "code",
   "execution_count": 5,
   "id": "24eee83e",
   "metadata": {},
   "outputs": [
    {
     "name": "stdout",
     "output_type": "stream",
     "text": [
      "DONE!\n",
      "STATE column updated successfully in Sheet1 of DF_Unsorted.xlsx!\n"
     ]
    }
   ],
   "source": [
    "import openpyxl\n",
    "import pandas as pd\n",
    "from collections import defaultdict\n",
    "\n",
    "#Address of the Excel sheet\n",
    "wb = openpyxl.load_workbook(r\"C:\\Users\\Anil Sarkar\\Desktop\\Projext\\Python Projext\\Missing Values State Wise\\NADA.xlsx\") \n",
    "ws=wb['Sheet1']\n",
    "\n",
    "def reve(indecks):\n",
    "\n",
    "    if ws[\"B\"+str(indecks)].value == ws[\"B\"+str(indecks-1)].value:\n",
    "        ws[\"E\"+str(indecks)]= ws[\"E\"+str(indecks-1)].value\n",
    "    \n",
    "    else:\n",
    "        forwa(indecks)\n",
    "        \n",
    "#Loop in forward direction\n",
    "def forwa(indacks): \n",
    "    \n",
    "    curi=indacks\n",
    "    \n",
    "    for n in range(curi+1,ws.max_row,1):\n",
    "        \n",
    "        if ws[\"B\"+str(n)].value == ws[\"B\"+str(curi)].value:\n",
    "\n",
    "            if ws[\"D\"+str(n)].value:\n",
    "                ws[\"E\"+str(indacks)].value= ws[\"D\"+str(n)].value\n",
    "                \n",
    "                break\n",
    "            \n",
    "            elif ws[\"C\"+str(n)].value:\n",
    "                ws[\"E\"+str(indacks)]= ws[\"C\"+str(n)].value\n",
    "               \n",
    "                break           \n",
    "\n",
    "for i in range(2,ws.max_row,1):\n",
    "   \n",
    "    if ws[\"E\"+str(i)].value:\n",
    "        continue\n",
    "    else:\n",
    "        \n",
    "        if ws[\"C\"+str(i)].value:\n",
    "            ws[\"E\"+str(i)]= ws[\"C\"+str(i)].value\n",
    "        elif ws[\"D\"+str(i)].value:\n",
    "            ws[\"E\"+str(i)]= ws[\"D\"+str(i)].value\n",
    "        else:\n",
    "            reve(i)\n",
    "        \n",
    "wb.save(r\"C:\\Users\\Anil Sarkar\\Desktop\\Projext\\Python Projext\\Missing Values State Wise\\DF_Unsorted.xlsx\")\n",
    "print(\"DONE!\")\n",
    "\n",
    "file_path = r\"C:\\Users\\Anil Sarkar\\Desktop\\Projext\\Python Projext\\Missing Values State Wise\\DF_Unsorted.xlsx\"\n",
    "sheet_name = \"Sheet1\"\n",
    "df = pd.read_excel(file_path, sheet_name=sheet_name)\n",
    "\n",
    "# Convert all entries in the 'PROVINCE' column to strings\n",
    "df['STATE'] = df['STATE'].astype(str)\n",
    "\n",
    "\n",
    "#Sort the PROVINCE column\n",
    "#df.sort_values(by=['PROVINCE'], ascending=[True], inplace=True, ignore_index=True)\n",
    "\n",
    "# Group by CITY column and find the most frequent value in PROVINCE column for each CITY\n",
    "most_frequent_provinces = df[df['STATE'].notnull()].groupby('CITY')['STATE'].agg(lambda x: x.value_counts().idxmax())\n",
    "\n",
    "# Update the PROVINCE column based on the most frequent province for each city\n",
    "for city, province in most_frequent_provinces.items():\n",
    "    df.loc[df['CITY'] == city, 'STATE'] = province\n",
    "    \n",
    "\n",
    "# Save the updated DataFrame back to the Excel file\n",
    "df.to_excel(r\"C:\\Users\\Anil Sarkar\\Desktop\\Projext\\Python Projext\\Missing Values State Wise\\DF_Unsorted.xlsx\", sheet_name=sheet_name, index=False)\n",
    "\n",
    "print(\"STATE column updated successfully in Sheet1 of DF_Unsorted.xlsx!\")\n"
   ]
  },
  {
   "cell_type": "code",
   "execution_count": null,
   "id": "4020c8f1",
   "metadata": {},
   "outputs": [],
   "source": []
  }
 ],
 "metadata": {
  "kernelspec": {
   "display_name": "Python 3 (ipykernel)",
   "language": "python",
   "name": "python3"
  },
  "language_info": {
   "codemirror_mode": {
    "name": "ipython",
    "version": 3
   },
   "file_extension": ".py",
   "mimetype": "text/x-python",
   "name": "python",
   "nbconvert_exporter": "python",
   "pygments_lexer": "ipython3",
   "version": "3.11.1"
  }
 },
 "nbformat": 4,
 "nbformat_minor": 5
}
